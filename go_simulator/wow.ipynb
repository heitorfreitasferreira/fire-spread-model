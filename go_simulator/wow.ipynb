{
 "cells": [
  {
   "cell_type": "code",
   "execution_count": 3,
   "metadata": {},
   "outputs": [
    {
     "ename": "AttributeError",
     "evalue": "'list' object has no attribute '__array_interface__'",
     "output_type": "error",
     "traceback": [
      "\u001b[0;31m---------------------------------------------------------------------------\u001b[0m",
      "\u001b[0;31mAttributeError\u001b[0m                            Traceback (most recent call last)",
      "Cell \u001b[0;32mIn[3], line 17\u001b[0m\n\u001b[1;32m      4\u001b[0m data \u001b[38;5;241m=\u001b[39m [\n\u001b[1;32m      5\u001b[0m     [\u001b[38;5;241m.13\u001b[39m, \u001b[38;5;241m.16\u001b[39m, \u001b[38;5;241m.13\u001b[39m],\n\u001b[1;32m      6\u001b[0m     [\u001b[38;5;241m.1\u001b[39m, \u001b[38;5;241m.0\u001b[39m, \u001b[38;5;241m.1\u001b[39m],\n\u001b[1;32m      7\u001b[0m     [\u001b[38;5;241m.07\u001b[39m, \u001b[38;5;241m.04\u001b[39m, \u001b[38;5;241m.07\u001b[39m]\n\u001b[1;32m      8\u001b[0m ]\n\u001b[1;32m     10\u001b[0m expanded \u001b[38;5;241m=\u001b[39m [\n\u001b[1;32m     11\u001b[0m     [\u001b[38;5;241m0.025\u001b[39m, \u001b[38;5;241m0\u001b[39m, \u001b[38;5;241m0.05\u001b[39m, \u001b[38;5;241m0.065\u001b[39m, \u001b[38;5;241m0.046\u001b[39m],\n\u001b[1;32m     12\u001b[0m     [\u001b[38;5;241m0\u001b[39m, \u001b[38;5;241m0.07\u001b[39m, \u001b[38;5;241m0.1\u001b[39m, \u001b[38;5;241m0.13\u001b[39m, \u001b[38;5;241m0\u001b[39m],\n\u001b[0;32m   (...)\u001b[0m\n\u001b[1;32m     15\u001b[0m     [\u001b[38;5;241m0.025\u001b[39m, \u001b[38;5;241m0\u001b[39m, \u001b[38;5;241m0.05\u001b[39m, \u001b[38;5;241m0.065\u001b[39m, \u001b[38;5;241m0.046\u001b[39m]\n\u001b[1;32m     16\u001b[0m ]\n\u001b[0;32m---> 17\u001b[0m img \u001b[38;5;241m=\u001b[39m \u001b[43mImage\u001b[49m\u001b[38;5;241;43m.\u001b[39;49m\u001b[43mfromarray\u001b[49m\u001b[43m(\u001b[49m\u001b[43mdata\u001b[49m\u001b[43m,\u001b[49m\u001b[43m \u001b[49m\u001b[43mmode\u001b[49m\u001b[38;5;241;43m=\u001b[39;49m\u001b[38;5;124;43m'\u001b[39;49m\u001b[38;5;124;43mRGB\u001b[39;49m\u001b[38;5;124;43m'\u001b[39;49m\u001b[43m)\u001b[49m\u001b[38;5;241m.\u001b[39mconvert(\u001b[38;5;124m'\u001b[39m\u001b[38;5;124mL\u001b[39m\u001b[38;5;124m'\u001b[39m)\n\u001b[1;32m     18\u001b[0m img2 \u001b[38;5;241m=\u001b[39m Image\u001b[38;5;241m.\u001b[39mfromarray(np\u001b[38;5;241m.\u001b[39marray(expanded), mode\u001b[38;5;241m=\u001b[39m\u001b[38;5;124m'\u001b[39m\u001b[38;5;124mRGB\u001b[39m\u001b[38;5;124m'\u001b[39m)\u001b[38;5;241m.\u001b[39mconvert(\u001b[38;5;124m'\u001b[39m\u001b[38;5;124mL\u001b[39m\u001b[38;5;124m'\u001b[39m)\n\u001b[1;32m     19\u001b[0m img\u001b[38;5;241m.\u001b[39msave(\u001b[38;5;124m'\u001b[39m\u001b[38;5;124mog.png\u001b[39m\u001b[38;5;124m'\u001b[39m)\n",
      "File \u001b[0;32m/usr/lib/python3.12/site-packages/PIL/Image.py:3266\u001b[0m, in \u001b[0;36mfromarray\u001b[0;34m(obj, mode)\u001b[0m\n\u001b[1;32m   3219\u001b[0m \u001b[38;5;28;01mdef\u001b[39;00m \u001b[38;5;21mfromarray\u001b[39m(obj: SupportsArrayInterface, mode: \u001b[38;5;28mstr\u001b[39m \u001b[38;5;241m|\u001b[39m \u001b[38;5;28;01mNone\u001b[39;00m \u001b[38;5;241m=\u001b[39m \u001b[38;5;28;01mNone\u001b[39;00m) \u001b[38;5;241m-\u001b[39m\u001b[38;5;241m>\u001b[39m Image:\n\u001b[1;32m   3220\u001b[0m \u001b[38;5;250m    \u001b[39m\u001b[38;5;124;03m\"\"\"\u001b[39;00m\n\u001b[1;32m   3221\u001b[0m \u001b[38;5;124;03m    Creates an image memory from an object exporting the array interface\u001b[39;00m\n\u001b[1;32m   3222\u001b[0m \u001b[38;5;124;03m    (using the buffer protocol)::\u001b[39;00m\n\u001b[0;32m   (...)\u001b[0m\n\u001b[1;32m   3264\u001b[0m \u001b[38;5;124;03m    .. versionadded:: 1.1.6\u001b[39;00m\n\u001b[1;32m   3265\u001b[0m \u001b[38;5;124;03m    \"\"\"\u001b[39;00m\n\u001b[0;32m-> 3266\u001b[0m     arr \u001b[38;5;241m=\u001b[39m \u001b[43mobj\u001b[49m\u001b[38;5;241;43m.\u001b[39;49m\u001b[43m__array_interface__\u001b[49m\n\u001b[1;32m   3267\u001b[0m     shape \u001b[38;5;241m=\u001b[39m arr[\u001b[38;5;124m\"\u001b[39m\u001b[38;5;124mshape\u001b[39m\u001b[38;5;124m\"\u001b[39m]\n\u001b[1;32m   3268\u001b[0m     ndim \u001b[38;5;241m=\u001b[39m \u001b[38;5;28mlen\u001b[39m(shape)\n",
      "\u001b[0;31mAttributeError\u001b[0m: 'list' object has no attribute '__array_interface__'"
     ]
    }
   ],
   "source": [
    "from PIL import Image\n",
    "import numpy as np\n",
    "\n",
    "original_matrix = [\n",
    "    [.13, .16, .13],\n",
    "    [.1, .0, .1],\n",
    "    [.07, .04, .07]\n",
    "]\n",
    "\n",
    "expanded = [\n",
    "    [0.025, 0, 0.05, 0.065, 0.046],\n",
    "    [0, 0.07, 0.1, 0.13, 0],\n",
    "    [0.02, 0.04, 0, 0.16, 0.08],\n",
    "    [0.035, 0.07, 0.1, 0.13, 0.065],\n",
    "    [0.025, 0, 0.05, 0.065, 0.046]\n",
    "]\n",
    "\n",
    "img = Image.fromarray(original_matrix, mode='RGB').convert('L')\n",
    "img2 = Image.fromarray(np.array(expanded), mode='RGB').convert('L')\n",
    "img.save('og.png')\n",
    "img2.save('expanded.png')"
   ]
  }
 ],
 "metadata": {
  "kernelspec": {
   "display_name": "usr",
   "language": "python",
   "name": "python3"
  },
  "language_info": {
   "codemirror_mode": {
    "name": "ipython",
    "version": 3
   },
   "file_extension": ".py",
   "mimetype": "text/x-python",
   "name": "python",
   "nbconvert_exporter": "python",
   "pygments_lexer": "ipython3",
   "version": "3.12.7"
  }
 },
 "nbformat": 4,
 "nbformat_minor": 2
}
